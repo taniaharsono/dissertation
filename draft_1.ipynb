{
 "cells": [
  {
   "cell_type": "code",
   "execution_count": 1,
   "id": "c249784e-c639-49d6-bdf8-8bcdded714a2",
   "metadata": {},
   "outputs": [],
   "source": [
    "# draft_1\n",
    "ROW = 0 # indexing purposes -> Python start the index from 0\n",
    "COLUMN = 1 # indexing purpose\n",
    "\n",
    "class SampleEnvironment():\n",
    "    def __init__(self, n_rows=1, n_cols=5):\n",
    "        self.time = 0\n",
    "        self.n_rows = n_rows\n",
    "        self.n_cols = n_cols\n",
    "        self.pedestrian_destination = self.create_pedestrian_destination()\n",
    "        self.pedestrian = self.create_pedestrian()\n",
    "        self.grid = self.create_grid(self.pedestrian, n_rows, n_cols)\n",
    "\n",
    "    @staticmethod\n",
    "    def create_pedestrian_destination(): # will later be randomized\n",
    "        destination_row = 0\n",
    "        destination_col = 4\n",
    "        return (destination_row, destination_col)\n",
    "\n",
    "    @staticmethod\n",
    "    def create_pedestrian(): # will later be randomized and increased the quantity\n",
    "        pedestrian_row = 0\n",
    "        pedestrian_col = 0\n",
    "        return (pedestrian_row, pedestrian_col)\n",
    "\n",
    "    @staticmethod\n",
    "    def create_grid(pedestrian, n_rows, n_cols):\n",
    "        grid = []\n",
    "        for idx_row in range(n_rows):\n",
    "            column=  []\n",
    "            for idx_column in range(n_cols):\n",
    "                column.append(0)\n",
    "            grid.append(column)\n",
    "        grid[pedestrian[ROW]][pedestrian[COLUMN]] = 1\n",
    "        return grid\n",
    "\n",
    "    @staticmethod    \n",
    "    def update_pedestrian_location(pedestrian, n_rows, n_cols): # will later have multiple ways to \"walk\"\n",
    "        pedestrian_row = pedestrian[ROW]\n",
    "        pedestrian_col = pedestrian[COLUMN] + 1\n",
    "        return(pedestrian_row, pedestrian_col)\n",
    "\n",
    "    def reset(self):\n",
    "        self.time = 0\n",
    "        self.pedestrian = self.create_pedestrian()\n",
    "        self.grid = self.create_grid(self.pedestrian, self.n_rows, self.n_cols)\n",
    "        return self.grid\n",
    "\n",
    "    def step(self):\n",
    "        self.time = self.time + 1\n",
    "        self.pedestrian = self.update_pedestrian_location(self.pedestrian, self.n_rows, self.n_cols)\n",
    "        self.grid = self.create_grid(self.pedestrian, self.n_rows, self.n_cols)\n",
    "        newobs = self.grid\n",
    "        if self.pedestrian == self.pedestrian_destination:\n",
    "            done = True\n",
    "        else:\n",
    "            done = False\n",
    "        info = {\n",
    "            'goal' : self.pedestrian_destination,\n",
    "            'time' : self.time\n",
    "        }\n",
    "        return newobs, done, info\n",
    "\n",
    "    def render(self): # will later change into grid\n",
    "        for rows in self.grid:\n",
    "            print(rows)"
   ]
  },
  {
   "cell_type": "code",
   "execution_count": 2,
   "id": "337108c7",
   "metadata": {},
   "outputs": [],
   "source": [
    "env = SampleEnvironment()"
   ]
  },
  {
   "cell_type": "code",
   "execution_count": 3,
   "id": "71094503",
   "metadata": {},
   "outputs": [
    {
     "name": "stdout",
     "output_type": "stream",
     "text": [
      "obs : [[1, 0, 0, 0, 0]]\n"
     ]
    }
   ],
   "source": [
    "obs = env.reset()\n",
    "print(\"obs : {}\".format(obs))"
   ]
  },
  {
   "cell_type": "code",
   "execution_count": 4,
   "id": "4e4a2c0c",
   "metadata": {},
   "outputs": [
    {
     "name": "stdout",
     "output_type": "stream",
     "text": [
      "[1, 0, 0, 0, 0]\n"
     ]
    }
   ],
   "source": [
    "env.render()"
   ]
  },
  {
   "cell_type": "code",
   "execution_count": 5,
   "id": "fff34b4e",
   "metadata": {},
   "outputs": [
    {
     "name": "stdout",
     "output_type": "stream",
     "text": [
      "newobs : [[0, 1, 0, 0, 0]]\n",
      "done : False\n",
      "info : {'goal': (0, 4), 'time': 1}\n",
      "newobs : [[0, 0, 1, 0, 0]]\n",
      "done : False\n",
      "info : {'goal': (0, 4), 'time': 2}\n",
      "newobs : [[0, 0, 0, 1, 0]]\n",
      "done : False\n",
      "info : {'goal': (0, 4), 'time': 3}\n",
      "newobs : [[0, 0, 0, 0, 1]]\n",
      "done : True\n",
      "info : {'goal': (0, 4), 'time': 4}\n"
     ]
    }
   ],
   "source": [
    "for i in range(4):\n",
    "    newobs, done, info = env.step()\n",
    "    print('newobs : {}'.format(newobs))\n",
    "    print('done : {}'.format(done))\n",
    "    print('info : {}'.format(info))\n",
    "    i = i+1"
   ]
  },
  {
   "cell_type": "code",
   "execution_count": null,
   "id": "bd60b7c1",
   "metadata": {},
   "outputs": [],
   "source": [
    "# draft_1 + street light\n",
    "ROW = 0 # indexing purposes -> Python start the index from 0\n",
    "COLUMN = 1 # indexing purpose\n",
    "\n",
    "class SampleEnvironment():\n",
    "    def __init__(self, n_rows=1, n_cols=5):\n",
    "        self.time = 0\n",
    "        self.n_rows = n_rows\n",
    "        self.n_cols = n_cols\n",
    "        self.pedestrian_destination = self.create_pedestrian_destination()\n",
    "        self.pedestrian = self.create_pedestrian()\n",
    "        self.grid = self.create_grid(self.pedestrian, n_rows, n_cols)\n",
    "\n",
    "    @staticmethod\n",
    "    def create_pedestrian_destination(): # will later be randomized\n",
    "        destination_row = 0\n",
    "        destination_col = 4\n",
    "        return (destination_row, destination_col)\n",
    "\n",
    "    @staticmethod\n",
    "    def create_pedestrian(): # will later be randomized and increased the quantity\n",
    "        pedestrian_row = 0\n",
    "        pedestrian_col = 0\n",
    "        return (pedestrian_row, pedestrian_col)\n",
    "\n",
    "    @staticmethod\n",
    "    def create_grid(pedestrian, n_rows, n_cols):\n",
    "        grid = []\n",
    "        for idx_row in range(n_rows):\n",
    "            column=  []\n",
    "            for idx_column in range(n_cols):\n",
    "                column.append(0)\n",
    "            grid.append(column)\n",
    "        grid[pedestrian[ROW]][pedestrian[COLUMN]] = 1\n",
    "        return grid\n",
    "\n",
    "    @staticmethod    \n",
    "    def update_pedestrian_location(pedestrian, n_rows, n_cols): # will later have multiple ways to \"walk\"\n",
    "        pedestrian_row = pedestrian[ROW]\n",
    "        pedestrian_col = pedestrian[COLUMN] + 1\n",
    "        return(pedestrian_row, pedestrian_col)\n",
    "\n",
    "    \n",
    "\n",
    "    def reset(self):\n",
    "        self.time = 0\n",
    "        self.pedestrian = self.create_pedestrian()\n",
    "        self.grid = self.create_grid(self.pedestrian, self.n_rows, self.n_cols)\n",
    "        return self.grid\n",
    "\n",
    "    def step(self):\n",
    "        self.time = self.time + 1\n",
    "        self.pedestrian = self.update_pedestrian_location(self.pedestrian, self.n_rows, self.n_cols)\n",
    "        self.grid = self.create_grid(self.pedestrian, self.n_rows, self.n_cols)\n",
    "        newobs = self.grid\n",
    "        if self.pedestrian == self.pedestrian_destination:\n",
    "            done = True\n",
    "        else:\n",
    "            done = False\n",
    "        info = {\n",
    "            'goal' : self.pedestrian_destination,\n",
    "            'time' : self.time\n",
    "        }\n",
    "        return newobs, done, info\n",
    "\n",
    "    def render(self): # will later change into grid\n",
    "        for rows in self.grid:\n",
    "            print(rows)"
   ]
  },
  {
   "cell_type": "code",
   "execution_count": null,
   "id": "11a8dac9",
   "metadata": {},
   "outputs": [],
   "source": [
    "test"
   ]
  }
 ],
 "metadata": {
  "kernelspec": {
   "display_name": "Python 3.10.5 64-bit",
   "language": "python",
   "name": "python3"
  },
  "language_info": {
   "codemirror_mode": {
    "name": "ipython",
    "version": 3
   },
   "file_extension": ".py",
   "mimetype": "text/x-python",
   "name": "python",
   "nbconvert_exporter": "python",
   "pygments_lexer": "ipython3",
   "version": "3.10.5"
  },
  "vscode": {
   "interpreter": {
    "hash": "aee8b7b246df8f9039afb4144a1f6fd8d2ca17a180786b69acc140d282b71a49"
   }
  }
 },
 "nbformat": 4,
 "nbformat_minor": 5
}
