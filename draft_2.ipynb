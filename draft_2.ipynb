{
 "cells": [
  {
   "cell_type": "code",
   "execution_count": 1,
   "id": "c249784e-c639-49d6-bdf8-8bcdded714a2",
   "metadata": {},
   "outputs": [],
   "source": [
    "# draft_1\n",
    "ROW = 0 # indexing purposes -> Python start the index from 0\n",
    "COLUMN = 1 # indexing purpose\n",
    "\n",
    "class SampleEnvironment():\n",
    "    def __init__(self, n_rows=1, n_cols=5):\n",
    "        self.time = 0\n",
    "        self.n_rows = n_rows\n",
    "        self.n_cols = n_cols\n",
    "        self.pedestrian_destination = self.create_pedestrian_destination()\n",
    "        self.pedestrian = self.create_pedestrian()\n",
    "        self.grid = self.create_grid(self.pedestrian, n_rows, n_cols)\n",
    "\n",
    "    @staticmethod\n",
    "    def create_pedestrian_destination(): # will later be randomized\n",
    "        destination_row = 0\n",
    "        destination_col = 4\n",
    "        return (destination_row, destination_col)\n",
    "\n",
    "    @staticmethod\n",
    "    def create_pedestrian(): # will later be randomized and increased the quantity\n",
    "        pedestrian_row = 0\n",
    "        pedestrian_col = 0\n",
    "        return (pedestrian_row, pedestrian_col)\n",
    "\n",
    "    @staticmethod\n",
    "    def create_grid(pedestrian, n_rows, n_cols):\n",
    "        grid = []\n",
    "        for idx_row in range(n_rows): \n",
    "            column=  []\n",
    "            for idx_column in range(n_cols):\n",
    "                column.append(0)\n",
    "            grid.append(column)\n",
    "        grid[pedestrian[ROW]][pedestrian[COLUMN]] = 1\n",
    "        return grid\n",
    "\n",
    "    @staticmethod    \n",
    "    def update_pedestrian_location(pedestrian, n_rows, n_cols): # will later have multiple ways to \"walk\"\n",
    "        pedestrian_row = pedestrian[ROW]\n",
    "        pedestrian_col = pedestrian[COLUMN] + 1\n",
    "        return(pedestrian_row, pedestrian_col)\n",
    "\n",
    "    def reset(self):\n",
    "        self.time = 0\n",
    "        self.pedestrian = self.create_pedestrian()\n",
    "        self.grid = self.create_grid(self.pedestrian, self.n_rows, self.n_cols)\n",
    "        return self.grid\n",
    "\n",
    "    def step(self):\n",
    "        self.time = self.time + 1\n",
    "        self.pedestrian = self.update_pedestrian_location(self.pedestrian, self.n_rows, self.n_cols)\n",
    "        self.grid = self.create_grid(self.pedestrian, self.n_rows, self.n_cols)\n",
    "        newobs = self.grid\n",
    "        if self.pedestrian == self.pedestrian_destination:\n",
    "            done = True\n",
    "        else:\n",
    "            done = False\n",
    "        info = {\n",
    "            'goal' : self.pedestrian_destination,\n",
    "            'time' : self.time\n",
    "        }\n",
    "        return newobs, done, info\n",
    "\n",
    "    def render(self): # will later change into grid\n",
    "        for rows in self.grid:\n",
    "            print(rows)"
   ]
  },
  {
   "cell_type": "code",
   "execution_count": 2,
   "id": "337108c7",
   "metadata": {},
   "outputs": [],
   "source": [
    "env = SampleEnvironment()"
   ]
  },
  {
   "cell_type": "code",
   "execution_count": 3,
   "id": "71094503",
   "metadata": {},
   "outputs": [
    {
     "name": "stdout",
     "output_type": "stream",
     "text": [
      "obs : [[1, 0, 0, 0, 0]]\n"
     ]
    }
   ],
   "source": [
    "obs = env.reset()\n",
    "print(\"obs : {}\".format(obs))"
   ]
  },
  {
   "cell_type": "code",
   "execution_count": 4,
   "id": "4e4a2c0c",
   "metadata": {},
   "outputs": [
    {
     "name": "stdout",
     "output_type": "stream",
     "text": [
      "[1, 0, 0, 0, 0]\n"
     ]
    }
   ],
   "source": [
    "env.render()"
   ]
  },
  {
   "cell_type": "code",
   "execution_count": 5,
   "id": "fff34b4e",
   "metadata": {},
   "outputs": [
    {
     "name": "stdout",
     "output_type": "stream",
     "text": [
      "newobs : [[0, 1, 0, 0, 0]]\n",
      "done : False\n",
      "info : {'goal': (0, 4), 'time': 1}\n",
      "newobs : [[0, 0, 1, 0, 0]]\n",
      "done : False\n",
      "info : {'goal': (0, 4), 'time': 2}\n",
      "newobs : [[0, 0, 0, 1, 0]]\n",
      "done : False\n",
      "info : {'goal': (0, 4), 'time': 3}\n",
      "newobs : [[0, 0, 0, 0, 1]]\n",
      "done : True\n",
      "info : {'goal': (0, 4), 'time': 4}\n"
     ]
    }
   ],
   "source": [
    "for i in range(4):\n",
    "    newobs, done, info = env.step()\n",
    "    print('newobs : {}'.format(newobs))\n",
    "    print('done : {}'.format(done))\n",
    "    print('info : {}'.format(info))\n",
    "    i = i+1"
   ]
  },
  {
   "cell_type": "code",
   "execution_count": 126,
   "id": "fbc7c4e0",
   "metadata": {},
   "outputs": [],
   "source": [
    "# draft_2\n",
    "# import:\n",
    "import random\n",
    "from itertools import product\n",
    "random.seed(1)\n",
    "\n",
    "# indexing:\n",
    "STARTING = 0\n",
    "DESTINATION = 1\n",
    "ROW = 0\n",
    "COLUMN = 1\n",
    "\n",
    "# variables:\n",
    "list_position = [(0,0), (0,4)]\n",
    "num_of_pedestrian = 2\n",
    "n_rows = 1\n",
    "n_cols = 5\n",
    "\n",
    "# draft_2_pedestrian\n",
    "class Pedestrian():\n",
    " \n",
    "    # def __init__(self, list_position, num_of_pedestrian):\n",
    "    #     self.list_position = list_position\n",
    "    #     self.list_sd = self.create_starting_destination(list_position)\n",
    "    #     self.list_pedestrian_sd = self.create_pedestrian_sd(num_of_pedestrian)\n",
    "    #     # create_speed\n",
    "\n",
    "    # staticmethod\n",
    "    # def create_starting_destination(list_position):\n",
    "    #     starting_point = list_position # since list mentioned in the init method, can we put self.list_position?\n",
    "    #     destination_point = list_position\n",
    "    #     list_sd = []\n",
    "    #     for starting, destination in product(starting_point, destination_point):\n",
    "    #         if starting != destination:\n",
    "    #             list_sd.append((starting, destination))\n",
    "    #     return list_sd # return a list of tuple\n",
    "\n",
    "    # @staticmethod\n",
    "    # def create_pedestrian_sd(num_of_pedestrian):\n",
    "    #     pedestrian_s = []\n",
    "    #     pedestrian_d = []\n",
    "    #     list_pedestrian_sd = [pedestrian_s, pedestrian_d]\n",
    "    #     for idx_pedestrian_starting in range(num_of_pedestrian):\n",
    "    #         pedestrian_sd = random.choice(Pedestrian.create_starting_destination(list_position))\n",
    "    #         pedestrian_s.append(pedestrian_sd[STARTING])\n",
    "    #         pedestrian_d.append(pedestrian_sd[DESTINATION])\n",
    "    #     return list_pedestrian_sd\n",
    "\n",
    "    # @staticmethod\n",
    "    # def create_speed(list_speed): # not used yet\n",
    "    #     return list_speed\n",
    "    \n",
    "    # @staticmethod\n",
    "    # def create_pathway(list_pedestrian_s, pedestrian_loc):\n",
    "    #     for idx_pedestrian in range(num_of_pedestrian):\n",
    "    #         pedestrian_s = list_pedestrian_s[idx_pedestrian]\n",
    "    #         if pedestrian_s == (0,0): # generalize this\n",
    "    #             pedestrian_row = pedestrian_loc[ROW]\n",
    "    #             pedestrian_col = pedestrian_loc[COLUMN] + 1\n",
    "    #         else:\n",
    "    #             pedestrian_row = pedestrian_loc[ROW]\n",
    "    #             pedestrian_col = pedestrian_loc[COLUMN] - 1\n",
    "    #         pedestrian_loc = [pedestrian_row, pedestrian_col]\n",
    "    #         return pedestrian_loc\n",
    "\n",
    "    list_pedestrian_sd = Pedestrian.create_pedestrian_sd(num_of_pedestrian)\n",
    "    list_pedestrian_s = list_pedestrian_sd[STARTING]\n",
    "    list_pedestrian_d = list_pedestrian_sd[DESTINATION]\n",
    "\n",
    "# draft_2_environment\n",
    "\n",
    "class SampleEnvironment():\n",
    "    \n",
    "    def __init__(self, n_rows, n_cols, list_pedestrian_sd, list_pedestrian_s):\n",
    "        self.time = 0\n",
    "        self.n_rows = n_rows\n",
    "        self.n_cols = n_cols\n",
    "        self.pedestrian_s = list_pedestrian_sd[STARTING]\n",
    "        self.pedestrian_d = list_pedestrian_sd[DESTINATION]\n",
    "        self.grid = self.create_location_grid(list_pedestrian_s, n_rows, n_cols)\n",
    "\n",
    "    # @staticmethod\n",
    "    # def create_pedestrian(num_of_pedestrian):\n",
    "    #     pedestrian_loc = []\n",
    "    #     for idx_pedestrian in range(num_of_pedestrian):\n",
    "    #         pedestrian_s = list_pedestrian_s[idx_pedestrian]\n",
    "    #         pedestrian_row = pedestrian_s[ROW]\n",
    "    #         pedestrian_col = pedestrian_s[COLUMN]\n",
    "    #         pedestrian_loc.append((pedestrian_row, pedestrian_col))\n",
    "    #     return pedestrian_loc\n",
    "    # consider to delete\n",
    "\n",
    "    # @staticmethod\n",
    "    # def create_location_grid(list_pedestrian_s, n_rows, n_cols):\n",
    "    #     grid = []\n",
    "    #     for idx_row in range(n_rows):\n",
    "    #         row = []\n",
    "    #         for idx_column in range(n_cols):\n",
    "    #             row.append(0)\n",
    "    #         grid.append(row)\n",
    "    #     for idx_pedestrian in range(num_of_pedestrian):\n",
    "    #         pedestrian_s = list_pedestrian_s[idx_pedestrian]\n",
    "    #         grid[pedestrian_s[ROW]][pedestrian_s[COLUMN]] = 1\n",
    "    #     return grid\n",
    "\n",
    "    @staticmethod\n",
    "    def update_pedestrian_location(list_pedestrian_s, pedestrian_loc):\n",
    "        pedestrian_row = Pedestrian.create_pathway(list_pedestrian_s, pedestrian_loc)[ROW]\n",
    "        pedestrian_col = Pedestrian.create_pathway(list_pedestrian_s, pedestrian_loc)[COLUMN]\n",
    "        return pedestrian_row, pedestrian_col\n",
    "\n",
    "    def reset(self):\n",
    "        self.time = 0\n",
    "        self.pedestrian_loc = self.create_pedestrian(num_of_pedestrian)\n",
    "        self.grid = self.create_location_grid(self.pedestrian_s, self.n_rows, self.n_cols)\n",
    "        return self.grid\n",
    "\n",
    "    def step(self):\n",
    "        self.time = self.time + 1\n",
    "        self.pedestrian_loc = self.update_pedestrian_location(list_pedestrian_s, self.pedestrian_loc)\n",
    "        self.grid = self.create_location_grid(list_pedestrian_s, self.n_rows, self.n_cols)\n",
    "        newobs = self.grid\n",
    "        for idx_pedestrian in range(num_of_pedestrian):\n",
    "            if self.pedestrian_loc[idx_pedestrian] == list_pedestrian_d[idx_pedestrian]:\n",
    "                done = True\n",
    "            else:\n",
    "                done = False\n",
    "            info = {\n",
    "            'goal' : list_pedestrian_d[idx_pedestrian],\n",
    "            'time' : self.time\n",
    "            }\n",
    "        return newobs, done, info\n"
   ]
  },
  {
   "cell_type": "code",
   "execution_count": 71,
   "id": "8a52e87f",
   "metadata": {},
   "outputs": [],
   "source": [
    "env = SampleEnvironment(n_rows, n_cols, list_pedestrian_sd, list_pedestrian_s)"
   ]
  },
  {
   "cell_type": "code",
   "execution_count": 72,
   "id": "4b7dff9f",
   "metadata": {},
   "outputs": [
    {
     "name": "stdout",
     "output_type": "stream",
     "text": [
      "obs : [[1, 0, 0, 0, 0]]\n"
     ]
    }
   ],
   "source": [
    "obs = env.reset()\n",
    "print(\"obs : {}\".format(obs))"
   ]
  },
  {
   "cell_type": "code",
   "execution_count": 55,
   "id": "81061c36",
   "metadata": {},
   "outputs": [
    {
     "ename": "AttributeError",
     "evalue": "type object 'Pedestrian' has no attribute 'list_pedestrian_sd'",
     "output_type": "error",
     "traceback": [
      "\u001b[0;31m---------------------------------------------------------------------------\u001b[0m",
      "\u001b[0;31mAttributeError\u001b[0m                            Traceback (most recent call last)",
      "\u001b[1;32m/Users/taniaharsono/Documents/QUB/Dissertation/Python_Learning/dissertation/environment.ipynb Cell 9\u001b[0m in \u001b[0;36m<cell line: 1>\u001b[0;34m()\u001b[0m\n\u001b[0;32m----> <a href='vscode-notebook-cell:/Users/taniaharsono/Documents/QUB/Dissertation/Python_Learning/dissertation/environment.ipynb#ch0000012?line=0'>1</a>\u001b[0m \u001b[39mprint\u001b[39m(Pedestrian\u001b[39m.\u001b[39;49mlist_pedestrian_sd)\n",
      "\u001b[0;31mAttributeError\u001b[0m: type object 'Pedestrian' has no attribute 'list_pedestrian_sd'"
     ]
    }
   ],
   "source": [
    "print(Pedestrian.list_pedestrian_sd)"
   ]
  },
  {
   "cell_type": "code",
   "execution_count": 82,
   "id": "e8163eee",
   "metadata": {},
   "outputs": [
    {
     "name": "stdout",
     "output_type": "stream",
     "text": [
      "[((0, 0), (0, 4)), ((0, 4), (0, 0))]\n"
     ]
    }
   ],
   "source": [
    "\n"
   ]
  },
  {
   "cell_type": "code",
   "execution_count": 81,
   "id": "5ce1709c",
   "metadata": {},
   "outputs": [
    {
     "name": "stdout",
     "output_type": "stream",
     "text": [
      "[((0, 0), (0, 4)), ((0, 4), (0, 0))]\n",
      "[[(0, 0), (0, 0), (0, 4)], [(0, 4), (0, 4), (0, 0)]]\n"
     ]
    }
   ],
   "source": [
    "def create_pedestrian_sd(num_of_pedestrian):\n",
    "        pedestrian_s = []\n",
    "        pedestrian_d = []\n",
    "        list_pedestrian_sd = [pedestrian_s, pedestrian_d]\n",
    "        for idx_pedestrian_starting in range(num_of_pedestrian):\n",
    "            pedestrian_sd = random.choice(create_starting_destination(list_position))\n",
    "            pedestrian_s.append(pedestrian_sd[STARTING])\n",
    "            pedestrian_d.append(pedestrian_sd[DESTINATION])\n",
    "        return list_pedestrian_sd\n",
    "\n",
    "print(create_starting_destination(list_position=[(0,0), (0,4)]))\n",
    "print(create_pedestrian_sd(num_of_pedestrian=3))"
   ]
  },
  {
   "cell_type": "code",
   "execution_count": 4,
   "id": "0a76fe55",
   "metadata": {},
   "outputs": [
    {
     "name": "stdout",
     "output_type": "stream",
     "text": [
      "[((0, 0), (0, 4)), ((0, 4), (0, 0))]\n",
      "[[(0, 4), (0, 0)], [(0, 0), (0, 4)]]\n",
      "[[1, 0, 0, 0, 0]]\n",
      "[[(0, 0), (0, 0)], [(0, 4), (0, 4)]]\n",
      "[(0, 0), (0, 0)]\n",
      "[(0, 4), (0, 4)]\n",
      "done\n",
      "test\n"
     ]
    }
   ],
   "source": [
    "# draft_2 - test\n",
    "# import:\n",
    "import random\n",
    "from itertools import product\n",
    "random.seed(1)\n",
    "\n",
    "# indexing:\n",
    "STARTING = 0\n",
    "DESTINATION = 1\n",
    "ROW = 0\n",
    "COLUMN = 1\n",
    "\n",
    "# variables:\n",
    "list_position = [(0,0), (0,4)]\n",
    "num_of_pedestrian = 2\n",
    "n_rows = 1\n",
    "n_cols = 5\n",
    "\n",
    "class PedestriansMaker():\n",
    "    \n",
    "    def __init__(self, list_position, num_of_pedestrian, n_rows, n_cols):\n",
    "        self.list_position = list_position\n",
    "        self.num_of_pedestrian = num_of_pedestrian\n",
    "        self.n_rows = n_rows\n",
    "        self.n_cols = n_cols\n",
    "        self.list_sd = self.create_starting_destination(self.list_position)\n",
    "        self.list_pedestrian_sd = self.create_pedestrians_sd()\n",
    "        self.list_pedestrian_s = self.list_pedestrian_sd[STARTING]\n",
    "        self.list_pedestrian_d = self.list_pedestrian_sd[DESTINATION]\n",
    "        self.grid = self.create_location_grid()\n",
    "        # self.pedestian_loc = self.create_pathway()\n",
    "  \n",
    "    @staticmethod\n",
    "    def create_starting_destination(list_position):\n",
    "        starting_point = list_position # since list mentioned in the init method, can we put self.list_position?\n",
    "        destination_point = list_position\n",
    "        list_sd = []\n",
    "        for starting, destination in product(starting_point, destination_point):\n",
    "            if starting != destination:\n",
    "                list_sd.append((starting, destination))\n",
    "        return list_sd # return a list of tuple [starting destination option]\n",
    "\n",
    "    def create_pedestrians_sd(self):\n",
    "        pedestrian_s = []\n",
    "        pedestrian_d = []\n",
    "        for idx_pedestrian_starting in range(self.num_of_pedestrian):\n",
    "            pedestrian_sd = random.choice(self.list_sd)\n",
    "            pedestrian_s.append(pedestrian_sd[STARTING])\n",
    "            pedestrian_d.append(pedestrian_sd[DESTINATION])\n",
    "            list_pedestrian_sd = [pedestrian_s, pedestrian_d]\n",
    "        return list_pedestrian_sd # return list of tuple [starting][destination]\n",
    "\n",
    "    def create_location_grid(self):\n",
    "        grid = []\n",
    "        for idx_row in range(self.n_rows):\n",
    "            row = []\n",
    "            for idx_column in range(self.n_cols):\n",
    "                row.append(0)\n",
    "            grid.append(row)\n",
    "        for idx_pedestrian in range(self.num_of_pedestrian):\n",
    "            pedestrian_s = self.list_pedestrian_s[idx_pedestrian]\n",
    "            grid[pedestrian_s[ROW]][pedestrian_s[COLUMN]] = 1\n",
    "        return grid # return the grid and each pedestrian position on the grid\n",
    "    \n",
    "    def create_pathway(self):\n",
    "        list_pedestrian_loc = self.list_pedestrian_s\n",
    "        pedestrian_loc = []\n",
    "        for idx_pedestrian in range(self.num_of_pedestrian):\n",
    "            pedestrian_row = list_pedestrian_loc[ROW]\n",
    "            pedestrian_col = list_pedestrian_loc[COLUMN]\n",
    "            pedestrian_s = list_pedestrian_loc[idx_pedestrian]\n",
    "            if pedestrian_s == (0,0): # will later generalize this\n",
    "                pedestrian_row = pedestrian_row\n",
    "                pedestrian_col = pedestrian_col + 1\n",
    "            else:\n",
    "                pedestrian_row = pedestrian_row\n",
    "                pedestrian_col = pedestrian_col - 1\n",
    "            pedestrian_loc = [pedestrian_row, pedestrian_col]\n",
    "            return pedestrian_loc\n",
    "\n",
    "class SampleEnvironment():\n",
    "\n",
    "    def __init__(self, list_position, num_of_pedestrian, n_rows, n_cols):\n",
    "        self.list_position = list_position\n",
    "        self.num_of_pedestrian = num_of_pedestrian\n",
    "        self.n_rows = n_rows\n",
    "        self.n_cols = n_cols\n",
    "        self.time = 0\n",
    "        self.PedestriansMaker_class = PedestriansMaker(self.list_position, self.num_of_pedestrian, self.n_rows, self.n_cols)\n",
    "        self.list_pedestrian_s = self.PedestriansMaker_class.list_pedestrian_s\n",
    "        self.list_pedestrian_d = self.PedestriansMaker_class.list_pedestrian_d\n",
    "        self.grid = self.PedestriansMaker_class.grid\n",
    "\n",
    "    def reset(self):\n",
    "        self.time = 0\n",
    "        self.list_pedestrian_s = self.PedestriansMaker_class.list_pedestrian_s\n",
    "        self.grid = self.PedestriansMaker_class.grid\n",
    "        return self.grid\n",
    "\n",
    "    def step(self):\n",
    "        self.time = self.time + 1\n",
    "        self.list_pedestrian_loc = self.PedestriansMaker_class.pedestian_loc\n",
    "        self.grid = self.PedestriansMaker_class.grid\n",
    "        newobs = self.grid\n",
    "        for idx_pedestrian in range(self.num_of_pedestrian):\n",
    "            pedestrian_loc = self.list_pedestrian_loc[idx_pedestrian]\n",
    "            pedestrian_destination = self.list_pedestrian_d[idx_pedestrian]\n",
    "            if pedestrian_loc == pedestrian_destination:\n",
    "                done = True\n",
    "            else:\n",
    "                done = False\n",
    "            info = {\n",
    "                'goal' : pedestrian_destination,\n",
    "                'time' : self.time\n",
    "            }\n",
    "        return newobs, done, info\n",
    "\n",
    "    def render(self):\n",
    "        for rows in self.grid:\n",
    "            print(rows)\n",
    "\n",
    "        \n",
    "\n",
    "a = PedestriansMaker(list_position, num_of_pedestrian, n_rows, n_cols)\n",
    "print(a.create_starting_destination(list_position))\n",
    "print(a.create_pedestrians_sd())\n",
    "print(a.create_location_grid())\n",
    "print(a.list_pedestrian_sd)\n",
    "print(a.list_pedestrian_s)\n",
    "print(a.list_pedestrian_d)\n",
    "print('done')\n",
    "b = SampleEnvironment(list_position, num_of_pedestrian, n_rows, n_cols)\n",
    "print('test')\n",
    "obs = b.reset()"
   ]
  },
  {
   "cell_type": "code",
   "execution_count": null,
   "id": "d22856c8",
   "metadata": {},
   "outputs": [],
   "source": [
    "\n",
    "class StreetLight():\n",
    "\n",
    "    def __init__():\n",
    "        pass\n",
    "\n",
    "    def create_sl():\n",
    "        pass\n"
   ]
  },
  {
   "cell_type": "code",
   "execution_count": 8,
   "id": "fa71bc7b",
   "metadata": {},
   "outputs": [
    {
     "name": "stdout",
     "output_type": "stream",
     "text": [
      "[(0, 4), (0, 0)]\n",
      "[[1, 0, 0, 0, 1]]\n"
     ]
    }
   ],
   "source": [
    "\n"
   ]
  },
  {
   "cell_type": "code",
   "execution_count": null,
   "id": "4a608834",
   "metadata": {},
   "outputs": [],
   "source": []
  }
 ],
 "metadata": {
  "kernelspec": {
   "display_name": "Python 3.10.5 64-bit",
   "language": "python",
   "name": "python3"
  },
  "language_info": {
   "codemirror_mode": {
    "name": "ipython",
    "version": 3
   },
   "file_extension": ".py",
   "mimetype": "text/x-python",
   "name": "python",
   "nbconvert_exporter": "python",
   "pygments_lexer": "ipython3",
   "version": "3.10.5"
  },
  "vscode": {
   "interpreter": {
    "hash": "aee8b7b246df8f9039afb4144a1f6fd8d2ca17a180786b69acc140d282b71a49"
   }
  }
 },
 "nbformat": 4,
 "nbformat_minor": 5
}
