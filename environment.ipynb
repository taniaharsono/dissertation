{
 "cells": [
  {
   "cell_type": "code",
   "execution_count": 1,
   "id": "c249784e-c639-49d6-bdf8-8bcdded714a2",
   "metadata": {},
   "outputs": [],
   "source": [
    "# draft_1\n",
    "ROW = 0 # indexing purposes -> Python start the index from 0\n",
    "COLUMN = 1 # indexing purpose\n",
    "\n",
    "class SampleEnvironment():\n",
    "    def __init__(self, n_rows=1, n_cols=5):\n",
    "        self.time = 0\n",
    "        self.n_rows = n_rows\n",
    "        self.n_cols = n_cols\n",
    "        self.pedestrian_destination = self.create_pedestrian_destination()\n",
    "        self.pedestrian = self.create_pedestrian()\n",
    "        self.grid = self.create_grid(self.pedestrian, n_rows, n_cols)\n",
    "\n",
    "    @staticmethod\n",
    "    def create_pedestrian_destination(): # will later be randomized\n",
    "        destination_row = 0\n",
    "        destination_col = 4\n",
    "        return (destination_row, destination_col)\n",
    "\n",
    "    @staticmethod\n",
    "    def create_pedestrian(): # will later be randomized and increased the quantity\n",
    "        pedestrian_row = 0\n",
    "        pedestrian_col = 0\n",
    "        return (pedestrian_row, pedestrian_col)\n",
    "\n",
    "    @staticmethod\n",
    "    def create_grid(pedestrian, n_rows, n_cols):\n",
    "        grid = []\n",
    "        for idx_row in range(n_rows):\n",
    "            column=  []\n",
    "            for idx_column in range(n_cols):\n",
    "                column.append(0)\n",
    "            grid.append(column)\n",
    "        grid[pedestrian[ROW]][pedestrian[COLUMN]] = 1\n",
    "        return grid\n",
    "\n",
    "    @staticmethod    \n",
    "    def update_pedestrian_location(pedestrian, n_rows, n_cols): # will later have multiple ways to \"walk\"\n",
    "        pedestrian_row = pedestrian[ROW]\n",
    "        pedestrian_col = pedestrian[COLUMN] + 1\n",
    "        return(pedestrian_row, pedestrian_col)\n",
    "\n",
    "    def reset(self):\n",
    "        self.time = 0\n",
    "        self.pedestrian = self.create_pedestrian()\n",
    "        self.grid = self.create_grid(self.pedestrian, self.n_rows, self.n_cols)\n",
    "        return self.grid\n",
    "\n",
    "    def step(self):\n",
    "        self.time = self.time + 1\n",
    "        self.pedestrian = self.update_pedestrian_location(self.pedestrian, self.n_rows, self.n_cols)\n",
    "        self.grid = self.create_grid(self.pedestrian, self.n_rows, self.n_cols)\n",
    "        newobs = self.grid\n",
    "        if self.pedestrian == self.pedestrian_destination:\n",
    "            done = True\n",
    "        else:\n",
    "            done = False\n",
    "        info = {\n",
    "            'goal' : self.pedestrian_destination,\n",
    "            'time' : self.time\n",
    "        }\n",
    "        return newobs, done, info\n",
    "\n",
    "    def render(self): # will later change into grid\n",
    "        for rows in self.grid:\n",
    "            print(rows)"
   ]
  },
  {
   "cell_type": "code",
   "execution_count": 2,
   "id": "337108c7",
   "metadata": {},
   "outputs": [],
   "source": [
    "env = SampleEnvironment()"
   ]
  },
  {
   "cell_type": "code",
   "execution_count": 3,
   "id": "71094503",
   "metadata": {},
   "outputs": [
    {
     "name": "stdout",
     "output_type": "stream",
     "text": [
      "obs : [[1, 0, 0, 0, 0]]\n"
     ]
    }
   ],
   "source": [
    "obs = env.reset()\n",
    "print(\"obs : {}\".format(obs))"
   ]
  },
  {
   "cell_type": "code",
   "execution_count": 4,
   "id": "4e4a2c0c",
   "metadata": {},
   "outputs": [
    {
     "name": "stdout",
     "output_type": "stream",
     "text": [
      "[1, 0, 0, 0, 0]\n"
     ]
    }
   ],
   "source": [
    "env.render()"
   ]
  },
  {
   "cell_type": "code",
   "execution_count": 5,
   "id": "fff34b4e",
   "metadata": {},
   "outputs": [
    {
     "name": "stdout",
     "output_type": "stream",
     "text": [
      "newobs : [[0, 1, 0, 0, 0]]\n",
      "done : False\n",
      "info : {'goal': (0, 4), 'time': 1}\n",
      "newobs : [[0, 0, 1, 0, 0]]\n",
      "done : False\n",
      "info : {'goal': (0, 4), 'time': 2}\n",
      "newobs : [[0, 0, 0, 1, 0]]\n",
      "done : False\n",
      "info : {'goal': (0, 4), 'time': 3}\n",
      "newobs : [[0, 0, 0, 0, 1]]\n",
      "done : True\n",
      "info : {'goal': (0, 4), 'time': 4}\n"
     ]
    }
   ],
   "source": [
    "for i in range(4):\n",
    "    newobs, done, info = env.step()\n",
    "    print('newobs : {}'.format(newobs))\n",
    "    print('done : {}'.format(done))\n",
    "    print('info : {}'.format(info))\n",
    "    i = i+1"
   ]
  },
  {
   "cell_type": "code",
   "execution_count": 28,
   "id": "aa32b6fc",
   "metadata": {},
   "outputs": [
    {
     "name": "stdout",
     "output_type": "stream",
     "text": [
      "[((0, 0), (0, 4)), ((0, 4), (0, 0))]\n",
      "((0, 0), (0, 4))\n",
      "((0, 4), (0, 0))\n"
     ]
    }
   ],
   "source": [
    "# draft_2_pedestrian\n",
    "\n",
    "from itertools import product\n",
    "\n",
    "list_position = [(0,0), (0,4)]\n",
    "\n",
    "class Pedestrian():\n",
    " \n",
    "    def __init__():\n",
    "        pass\n",
    "\n",
    "    @staticmethod\n",
    "    def create_starting_destination(list_position):\n",
    "        starting_point = list_position\n",
    "        destination_point = starting_point\n",
    "        list_sd = []\n",
    "        for starting, destination in product(starting_point, destination_point):\n",
    "            if starting != destination:\n",
    "                list_sd.append((starting, destination))\n",
    "        return list_sd\n",
    "    \n",
    "    @staticmethod\n",
    "    def create_speed(list_speed):\n",
    "        return list_speed\n",
    "    \n",
    "    @staticmethod\n",
    "    def update_location():\n",
    "        pass\n",
    "\n",
    "print(Pedestrian.create_starting_destination(list_position))\n",
    "print(Pedestrian.create_starting_destination(list_position)[0])\n",
    "print(Pedestrian.create_starting_destination(list_position)[1])"
   ]
  },
  {
   "cell_type": "code",
   "execution_count": 29,
   "id": "fbc7c4e0",
   "metadata": {},
   "outputs": [
    {
     "name": "stdout",
     "output_type": "stream",
     "text": [
      "[[(0, 0), (0, 4), (0, 0), (0, 0)], [(0, 4), (0, 0), (0, 4), (0, 4)]]\n",
      "[(0, 4), (0, 4), (0, 4), (0, 4)]\n",
      "[(0, 4), (0, 0), (0, 4), (0, 4)]\n"
     ]
    },
    {
     "ename": "AttributeError",
     "evalue": "type object 'SampleEnvironment' has no attribute 'time'",
     "output_type": "error",
     "traceback": [
      "\u001b[0;31m---------------------------------------------------------------------------\u001b[0m",
      "\u001b[0;31mAttributeError\u001b[0m                            Traceback (most recent call last)",
      "\u001b[1;32m/Users/taniaharsono/Documents/QUB/Dissertation/Python_Learning/dissertation/environment.ipynb Cell 7\u001b[0m in \u001b[0;36m<cell line: 47>\u001b[0;34m()\u001b[0m\n\u001b[1;32m     <a href='vscode-notebook-cell:/Users/taniaharsono/Documents/QUB/Dissertation/Python_Learning/dissertation/environment.ipynb#ch0000005?line=43'>44</a>\u001b[0m \u001b[39mprint\u001b[39m(SampleEnvironment\u001b[39m.\u001b[39mcreate_pedestrian(num_of_pedestrian)[STARTING])\n\u001b[1;32m     <a href='vscode-notebook-cell:/Users/taniaharsono/Documents/QUB/Dissertation/Python_Learning/dissertation/environment.ipynb#ch0000005?line=44'>45</a>\u001b[0m \u001b[39mprint\u001b[39m(SampleEnvironment\u001b[39m.\u001b[39mcreate_pedestrian(num_of_pedestrian)[DESTINATION])\n\u001b[0;32m---> <a href='vscode-notebook-cell:/Users/taniaharsono/Documents/QUB/Dissertation/Python_Learning/dissertation/environment.ipynb#ch0000005?line=46'>47</a>\u001b[0m \u001b[39mprint\u001b[39m(SampleEnvironment\u001b[39m.\u001b[39;49mtime)\n\u001b[1;32m     <a href='vscode-notebook-cell:/Users/taniaharsono/Documents/QUB/Dissertation/Python_Learning/dissertation/environment.ipynb#ch0000005?line=48'>49</a>\u001b[0m \u001b[39mprint\u001b[39m(SampleEnvironment\u001b[39m.\u001b[39mpedestrian_s)\n\u001b[1;32m     <a href='vscode-notebook-cell:/Users/taniaharsono/Documents/QUB/Dissertation/Python_Learning/dissertation/environment.ipynb#ch0000005?line=49'>50</a>\u001b[0m \u001b[39mprint\u001b[39m(SampleEnvironment\u001b[39m.\u001b[39mpedestrian_d)\n",
      "\u001b[0;31mAttributeError\u001b[0m: type object 'SampleEnvironment' has no attribute 'time'"
     ]
    }
   ],
   "source": [
    "# draft_2_environment\n",
    "# import:\n",
    "import random\n",
    "from itertools import product\n",
    "\n",
    "# indexing:\n",
    "STARTING = 0\n",
    "DESTINATION = 1\n",
    "ROW = 0\n",
    "COLUMN = 1\n",
    "\n",
    "# variables:\n",
    "list_position = [(0,0), (0,4)]\n",
    "num_of_pedestrian = 4\n",
    "\n",
    "class SampleEnvironment():\n",
    "    \n",
    "    def __init__(self, n_rows, n_cols):\n",
    "        self.time = 0\n",
    "        self.n_rows = n_rows\n",
    "        self.n_cols = n_cols\n",
    "        self.pedestrian_s = self.create_pedestrian(self.num_of_pedestrian)[STARTING]\n",
    "        self.pedestrian_d = self.create_pedestrian(self.num_of_pedestrian)[DESTINATION]\n",
    "\n",
    "    @staticmethod\n",
    "    def create_grid():\n",
    "        pass\n",
    "        \n",
    "    @staticmethod\n",
    "    def create_pedestrian(num_of_pedestrian):\n",
    "        pedestrian_s = []\n",
    "        pedestrian_d = []\n",
    "        list_pedestrian_sd = [pedestrian_s, pedestrian_d]\n",
    "        for idx_pedestrian_starting in range(num_of_pedestrian):\n",
    "            pedestrian_sd = random.choice(Pedestrian.create_starting_destination(list_position))\n",
    "            pedestrian_s.append(pedestrian_sd[STARTING])\n",
    "            pedestrian_d.append(pedestrian_sd[DESTINATION])\n",
    "        return list_pedestrian_sd\n",
    "\n",
    "    def reset(self):\n",
    "        pass\n",
    "\n",
    "print(SampleEnvironment.create_pedestrian(num_of_pedestrian))\n",
    "print(SampleEnvironment.create_pedestrian(num_of_pedestrian)[STARTING])\n",
    "print(SampleEnvironment.create_pedestrian(num_of_pedestrian)[DESTINATION])\n",
    "\n",
    "print(SampleEnvironment.time)\n",
    "\n",
    "print(SampleEnvironment.pedestrian_s)\n",
    "print(SampleEnvironment.pedestrian_d)\n",
    "\n",
    "\n",
    "        "
   ]
  },
  {
   "cell_type": "code",
   "execution_count": null,
   "id": "8a52e87f",
   "metadata": {},
   "outputs": [],
   "source": []
  },
  {
   "cell_type": "code",
   "execution_count": null,
   "id": "4b7dff9f",
   "metadata": {},
   "outputs": [],
   "source": []
  }
 ],
 "metadata": {
  "kernelspec": {
   "display_name": "Python 3.10.5 64-bit",
   "language": "python",
   "name": "python3"
  },
  "language_info": {
   "codemirror_mode": {
    "name": "ipython",
    "version": 3
   },
   "file_extension": ".py",
   "mimetype": "text/x-python",
   "name": "python",
   "nbconvert_exporter": "python",
   "pygments_lexer": "ipython3",
   "version": "3.10.5"
  },
  "vscode": {
   "interpreter": {
    "hash": "aee8b7b246df8f9039afb4144a1f6fd8d2ca17a180786b69acc140d282b71a49"
   }
  }
 },
 "nbformat": 4,
 "nbformat_minor": 5
}
