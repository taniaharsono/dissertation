{
 "cells": [
  {
   "cell_type": "code",
   "execution_count": 10,
   "id": "8e3a6e10",
   "metadata": {},
   "outputs": [],
   "source": [
    "actions = [2, 1, 3, 1, 3]\n",
    "lamps = [(2, 5), (5, 2), (5, 5), (5, 8), (8, 5)]\n",
    "streets = [(0, 5), (1, 5), (2, 5), (3, 5), (4, 5), (5, 0), (5, 1), (5, 2), (5, 3), (5, 4), (5, 5), (5, 6), (5, 7), (5, 8), (5, 9), (5, 10), (6, 5), (7, 5), (8, 5), (9, 5), (10, 5)]\n",
    "grids = [[0, 0, 0, 0, 0, 3, 0, 0, 0, 0, 0], [0, 0, 0, 0, 0, 0, 0, 0, 0, 0, 0], [0, 0, 0, 0, 0, 0, 0, 0, 0, 0, 0], [0, 0, 0, 0, 0, 0, 0, 0, 0, 0, 0], [0, 0, 0, 0, 0, 0, 0, 0, 0, 0, 0], [2, 3, 4, 0, 5, 0, 0, 0, 0, 0, 3], [0, 0, 0, 0, 0, 0, 0, 0, 0, 0, 0], [0, 0, 0, 0, 0, 0, 0, 0, 0, 0, 0], [0, 0, 0, 0, 0, 0, 0, 0, 0, 0, 0], [0, 0, 0, 0, 0, 0, 0, 0, 0, 0, 0], [0, 0, 0, 0, 0, 4, 0, 0, 0, 0, 0]]"
   ]
  },
  {
   "cell_type": "code",
   "execution_count": 5,
   "id": "1178ade6",
   "metadata": {},
   "outputs": [],
   "source": [
    "colors = ['white', 'yellow', 'orange', 'red']"
   ]
  },
  {
   "cell_type": "code",
   "execution_count": 26,
   "id": "2d6a130a",
   "metadata": {},
   "outputs": [],
   "source": [
    "import matplotlib.pyplot as plt\n",
    "from matplotlib import colors\n",
    "import numpy as np\n",
    "\n",
    "actions = np.array(actions)\n",
    "lamps = np.array(lamps)\n",
    "streets = np.array(streets)\n",
    "grids = np.array(grids)\n",
    "\n",
    "charts = np.zeros_like(grids)\n",
    "for idx in range(len(streets)):\n",
    "    street = streets[idx]\n",
    "    street_x, street_y = street\n",
    "    charts[street_x, street_y] = 1\n",
    "    \n",
    "for idx in range(len(lamps)):\n",
    "    lamp = lamps[idx]\n",
    "    lamp_x, lamp_y = lamp\n",
    "    action = actions[idx]\n",
    "    charts[lamp_x, lamp_y] = action + 1.5"
   ]
  },
  {
   "cell_type": "code",
   "execution_count": 52,
   "id": "c20d0cc0",
   "metadata": {},
   "outputs": [
    {
     "data": {
      "image/png": "[encoded data removed]",
      "text/plain": [
       "<Figure size 720x720 with 1 Axes>"
      ]
     },
     "metadata": {
      "needs_background": "light"
     },
     "output_type": "display_data"
    }
   ],
   "source": [
    "import matplotlib.pyplot as plt\n",
    "from matplotlib import colors\n",
    "import matplotlib.patches as patches\n",
    "import numpy as np\n",
    "\n",
    "cmap = colors.ListedColormap(['white', 'yellow', 'orange', 'red', 'purple'])\n",
    "bounds = [0,1,2,3,4,5]\n",
    "norm = colors.BoundaryNorm(bounds, cmap.N)\n",
    "\n",
    "fig, ax = plt.subplots(figsize=(10,10))\n",
    "ax.imshow(charts, cmap=cmap, norm=norm)\n",
    "\n",
    "# Create a Rectangle patch\n",
    "rect = patches.Rectangle((1.5,1.5), 1,1, linewidth=2, edgecolor='r', facecolor='none')\n",
    "# Add the patch to the Axes\n",
    "ax.add_patch(rect)\n",
    "\n",
    "# draw gridlines\n",
    "ax.grid(which='major', axis='both', linestyle='-', color='k', linewidth=1)\n",
    "ax.set_xticks(np.arange(-.5, 10, 1));\n",
    "ax.set_yticks(np.arange(-.5, 10, 1));\n",
    "\n",
    "for grid_x in range(grids.shape[0]):\n",
    "    for grid_y in range(grids.shape[1]):\n",
    "        if grids[grid_x, grid_y] != 0:\n",
    "            plt.text(grid_x, grid_y, grids[grid_x, grid_y], ha=\"center\", va=\"center\", size=30)\n",
    "\n",
    "plt.show()\n"
   ]
  }
 ],
 "metadata": {
  "kernelspec": {
   "display_name": "Python 3.10.5 64-bit",
   "language": "python",
   "name": "python3"
  },
  "language_info": {
   "codemirror_mode": {
    "name": "ipython",
    "version": 3
   },
   "file_extension": ".py",
   "mimetype": "text/x-python",
   "name": "python",
   "nbconvert_exporter": "python",
   "pygments_lexer": "ipython3",
   "version": "3.10.5"
  },
  "vscode": {
   "interpreter": {
    "hash": "aee8b7b246df8f9039afb4144a1f6fd8d2ca17a180786b69acc140d282b71a49"
   }
  }
 },
 "nbformat": 4,
 "nbformat_minor": 5
}
